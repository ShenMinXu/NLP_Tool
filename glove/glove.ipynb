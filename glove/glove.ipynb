{
 "cells": [
  {
   "cell_type": "markdown",
   "metadata": {},
   "source": [
    "Glove tutorial  \n",
    "py2.7  \n",
    "linux\n",
    "make is not supported under windows,one may use gensim-word2vector instead\n",
    "PS:in the terminal of linux  '!' at the beginning should be omitted"
   ]
  },
  {
   "cell_type": "markdown",
   "metadata": {},
   "source": [
    "# git glove"
   ]
  },
  {
   "cell_type": "markdown",
   "metadata": {},
   "source": [
    "save code to document glove"
   ]
  },
  {
   "cell_type": "code",
   "execution_count": 1,
   "metadata": {},
   "outputs": [
    {
     "name": "stdout",
     "output_type": "stream",
     "text": [
      "Cloning into 'glove'...\n",
      "remote: Counting objects: 431, done.\u001b[K\n",
      "^Cceiving objects:  80% (345/431), 164.01 KiB | 0 bytes/s   \n"
     ]
    }
   ],
   "source": [
    "!git clone https://github.com/stanfordnlp/GloVe glove"
   ]
  },
  {
   "cell_type": "code",
   "execution_count": null,
   "metadata": {},
   "outputs": [],
   "source": [
    "! make -C glove/"
   ]
  },
  {
   "cell_type": "code",
   "execution_count": 2,
   "metadata": {},
   "outputs": [
    {
     "name": "stdout",
     "output_type": "stream",
     "text": [
      "cooccur  glove\tshuffle  vocab_count\r\n"
     ]
    }
   ],
   "source": [
    "!ls glove/build/"
   ]
  },
  {
   "cell_type": "markdown",
   "metadata": {},
   "source": [
    "准备训练的语料"
   ]
  },
  {
   "cell_type": "code",
   "execution_count": 21,
   "metadata": {},
   "outputs": [],
   "source": [
    "f  = open('corpus.txt','w')\n",
    "f.write('XiaoMing like eating apple\\n')\n",
    "f.write('XiaoHong like eating banana\\n')\n",
    "f.close()"
   ]
  },
  {
   "cell_type": "markdown",
   "metadata": {},
   "source": [
    "使用glove训练"
   ]
  },
  {
   "cell_type": "code",
   "execution_count": 24,
   "metadata": {
    "scrolled": true
   },
   "outputs": [
    {
     "name": "stdout",
     "output_type": "stream",
     "text": [
      "BUILDING VOCABULARY\r\n",
      "Using vocabulary of size 6.\r\n",
      "\r\n"
     ]
    }
   ],
   "source": [
    "!./glove/build/vocab_count -verbose 1 -max-vocab 20 -min-count 1 < corpus.txt > /tmp/vocab.txt"
   ]
  },
  {
   "cell_type": "code",
   "execution_count": 25,
   "metadata": {},
   "outputs": [
    {
     "name": "stdout",
     "output_type": "stream",
     "text": [
      "COUNTING COOCCURRENCES\r\n",
      "window size: 3\r\n",
      "context: asymmetric\r\n",
      "\u001b[0GMerging cooccurrence files: processed 11 lines.\r\n",
      "\r\n"
     ]
    }
   ],
   "source": [
    "!./glove/build/cooccur -verbose 1 -symmetric 0 -window-size 3 -vocab-file /tmp/vocab.txt -memory 1.0 -overflow-file /tmp/tempoverflow < corpus.txt > /tmp/cooccurrence.bin"
   ]
  },
  {
   "cell_type": "code",
   "execution_count": 26,
   "metadata": {},
   "outputs": [
    {
     "name": "stdout",
     "output_type": "stream",
     "text": [
      "SHUFFLING COOCCURRENCES\n",
      "array size: 63753420\n",
      "Segmentation fault (core dumped)\n"
     ]
    }
   ],
   "source": [
    "!./glove/build/shuffle -verbose 1 -temp-file /tmp/tmp -memory 1.0 < /tmp/cooccurrence.bin > /tmp/cooccurrence.shuf.bin"
   ]
  },
  {
   "cell_type": "markdown",
   "metadata": {},
   "source": [
    "因为shuffle一直报错，所以训练用cooccurrence.bin代替了"
   ]
  },
  {
   "cell_type": "code",
   "execution_count": 30,
   "metadata": {
    "scrolled": true
   },
   "outputs": [
    {
     "name": "stdout",
     "output_type": "stream",
     "text": [
      "TRAINING MODEL\r\n",
      "Read 11 lines.\r\n",
      "Initializing parameters...done.\r\n",
      "vector size: 10\r\n",
      "vocab size: 6\r\n",
      "x_max: 100.000000\r\n",
      "alpha: 0.750000\r\n",
      "07/30/18 - 08:38.01AM, iter: 001, cost: 0.005658\r\n",
      "07/30/18 - 08:38.01AM, iter: 002, cost: 0.005637\r\n",
      "07/30/18 - 08:38.01AM, iter: 003, cost: 0.005617\r\n",
      "07/30/18 - 08:38.01AM, iter: 004, cost: 0.005597\r\n",
      "07/30/18 - 08:38.01AM, iter: 005, cost: 0.005577\r\n",
      "07/30/18 - 08:38.01AM, iter: 006, cost: 0.005557\r\n",
      "07/30/18 - 08:38.01AM, iter: 007, cost: 0.005537\r\n",
      "07/30/18 - 08:38.01AM, iter: 008, cost: 0.005517\r\n",
      "07/30/18 - 08:38.01AM, iter: 009, cost: 0.005498\r\n",
      "07/30/18 - 08:38.01AM, iter: 010, cost: 0.005479\r\n"
     ]
    }
   ],
   "source": [
    "!./glove/build/glove -verbose 2 -input-file /tmp/cooccurrence.bin -vocab-file /tmp/vocab.txt -save-file vectors -binary 0 -model 2 -vector-size 10 -threads 1 -alpha 0.75 -x-max 100.0 -eta 0.05 -iter 10"
   ]
  },
  {
   "cell_type": "code",
   "execution_count": 31,
   "metadata": {},
   "outputs": [
    {
     "name": "stdout",
     "output_type": "stream",
     "text": [
      "corpus.txt  glove  Untitled.ipynb  vectors.txt\r\n"
     ]
    }
   ],
   "source": [
    "!ls"
   ]
  },
  {
   "cell_type": "markdown",
   "metadata": {},
   "source": [
    "Generate Vocab from Glove Vectors.txt"
   ]
  },
  {
   "cell_type": "code",
   "execution_count": 32,
   "metadata": {},
   "outputs": [],
   "source": [
    "import numpy as np\n",
    "class Vocab(object):\n",
    "    def __init__(self, lower=True):\n",
    "\n",
    "        self.id2token = {}\n",
    "        self.token2id = {}\n",
    "        self.token_cnt = {}\n",
    "        self.lower = lower\n",
    "\n",
    "        self.vocab_size = None\n",
    "        self.embeddings = None\n",
    "\n",
    "    def prepare(self, filename):\n",
    "        '''\n",
    "        准备符号和id对应的字典\n",
    "        '''\n",
    "        tokens = []\n",
    "        embs = []\n",
    "        with open(filename, 'rb') as f:\n",
    "            content = f.readlines()\n",
    "            for line in content:\n",
    "                # x = line\n",
    "                line = line.split()\n",
    "                # if len(line) != 201: # filter the bad line\n",
    "                #    print(x.encode())\n",
    "                #    continue\n",
    "                tokens.append(line[0])\n",
    "                embs.append(line[1:])\n",
    "\n",
    "        ids = list(range(len(tokens)))\n",
    "        self.token2id = dict(zip(tokens, ids))\n",
    "        self.id2token = dict(zip(ids, tokens))\n",
    "\n",
    "        self.embeddings = np.array(embs, dtype=np.float32)\n",
    "        self.vocab_size = self.embeddings.shape[0]\n",
    "\n",
    "    def get_id(self, token):\n",
    "        '''\n",
    "        得到一个符号的id\n",
    "        '''\n",
    "        token = token.encode('utf-8')\n",
    "        token = token.lower() if self.lower else token\n",
    "        try:\n",
    "            return self.token2id[token]\n",
    "        except KeyError:\n",
    "            return self.token2id['<unk>']\n",
    "\n",
    "    def convert_to_ids(self, tokens):\n",
    "        '''\n",
    "        符号列表转为id列表\n",
    "        '''\n",
    "        vec = [self.get_id(label) for label in tokens]\n",
    "        return vec"
   ]
  },
  {
   "cell_type": "code",
   "execution_count": 33,
   "metadata": {},
   "outputs": [],
   "source": [
    "vocab_1  =Vocab()"
   ]
  },
  {
   "cell_type": "code",
   "execution_count": 35,
   "metadata": {},
   "outputs": [],
   "source": [
    "vocab_1.prepare('vectors.txt')"
   ]
  },
  {
   "cell_type": "code",
   "execution_count": null,
   "metadata": {},
   "outputs": [],
   "source": []
  }
 ],
 "metadata": {
  "kernelspec": {
   "display_name": "Python 2",
   "language": "python",
   "name": "python2"
  },
  "language_info": {
   "codemirror_mode": {
    "name": "ipython",
    "version": 2
   },
   "file_extension": ".py",
   "mimetype": "text/x-python",
   "name": "python",
   "nbconvert_exporter": "python",
   "pygments_lexer": "ipython2",
   "version": "2.7.15"
  }
 },
 "nbformat": 4,
 "nbformat_minor": 2
}
